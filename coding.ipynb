{
  "nbformat": 4,
  "nbformat_minor": 0,
  "metadata": {
    "colab": {
      "provenance": []
    },
    "kernelspec": {
      "name": "python3",
      "display_name": "Python 3"
    },
    "language_info": {
      "name": "python"
    }
  },
  "cells": [
    {
      "cell_type": "markdown",
      "source": [
        "import cv2\n",
        "from google.colab.patches import cv2_imshow"
      ],
      "metadata": {
        "id": "BQHUKjMdKZL_"
      }
    },
    {
      "cell_type": "code",
      "execution_count": null,
      "metadata": {
        "id": "U630PNTZb8e5"
      },
      "outputs": [],
      "source": [
        "#read and diplay image\n",
        "#Type ur code here"
      ]
    },
    {
      "cell_type": "code",
      "source": [
        "#WRITE AN IMAGE\n",
        "#Type ur code here\n",
        "\n",
        "# Save the original image to a file\n",
        "original_output_path = \"image path\"\n",
        "#Type ur code here\n",
        "cv2.imwrite(original_output_path, image)\n",
        "print(f\"Original image saved to: {original_output_path}\")\n",
        "\n",
        "# Read the saved image\n",
        "#Type ur code here\n",
        "\n",
        "# Display the saved image\n",
        "#Type ur code here\n",
        "\n",
        "# Save the saved image to a new file\n",
        "#Type ur code here\n",
        "cv2.imwrite(new_output_path, saved_image)\n",
        "print(f\"Saved image saved to: {new_output_path}\")"
      ],
      "metadata": {
        "id": "HwyY1XmqcQtw"
      },
      "execution_count": null,
      "outputs": []
    },
    {
      "cell_type": "code",
      "source": [
        "#ACCESSING ROWS AND COLUMNS\n",
        "#Type ur code here\n",
        "# Get the shape of the image (rows, columns, channels)\n",
        "\n",
        "print(f\"Image Shape: Rows={rows}, Columns={columns}, Channels={channels}\")\n",
        "\n",
        "# Assign random values to pixels in the first row and first column\n",
        "                                                                 # Random values for the first row\n",
        "image[:, 0] = np.random.randint(0, 256, size=(rows, channels))  # Random values for the first column\n",
        "#Type ur code here\n",
        "# Display the modified image\n",
        "#Type ur code here"
      ],
      "metadata": {
        "id": "CAMzOFtNceXD"
      },
      "execution_count": null,
      "outputs": []
    },
    {
      "cell_type": "code",
      "source": [
        "#Cut and paste the image\n",
        "\n",
        "#Type ur code here\n",
        "# Display the original image\n",
        "\n",
        "#Type ur code here\n",
        "# Get the shape of the image (rows, columns, channels)\n",
        "#Type ur code here\n",
        "\n",
        "# Define the region to cut (example: top-left corner, width=100, height=100)\n",
        "cut_region = image[0:100, 0:100]\n",
        "\n",
        "# Paste the cut region back onto the image (example: paste at (200, 200))\n",
        "image[] = cut_region\n",
        "#Display the modified image\n",
        "#Type ur code here\n",
        "\n"
      ],
      "metadata": {
        "id": "67axBKzZcmPy"
      },
      "execution_count": null,
      "outputs": []
    },
    {
      "cell_type": "code",
      "source": [
        "#######COLOR CONVERSION\n",
        "##Convert BGR and RGB to HSV and GRAY\n",
        "#Type ur code here\n",
        "# Convert BGR to RGB\n",
        "image_rgb = (image_bgr, cv2.COLOR_BGR2RGB)\n",
        "\n",
        "# Convert BGR to HSV\n",
        "image_hsv_bgr = cv2.cvtColor(image_bgr, )\n",
        "\n",
        "# Convert RGB to HSV\n",
        "#Type ur code here\n",
        "\n",
        "# Convert BGR to Grayscale\n",
        "#Type ur code here\n",
        "\n",
        "# Convert RGB to Grayscale\n",
        "#Type ur code here\n",
        "\n",
        "# Display the original BGR image\n",
        "#Type ur code here\n",
        "# Display the HSV image (BGR and RGB converted)\n",
        "#Type ur code here\n",
        "# Display the Grayscale image (BGR and RGB converted)\n",
        "print(\"BGR TO GRAY\")\n",
        "cv2_imshow(image_gray_bgr)\n",
        "print(\"RGB TO GRAY\")\n",
        "cv2_imshow(image_gray_rgb)\n"
      ],
      "metadata": {
        "id": "bwAAj1z0dTd7"
      },
      "execution_count": null,
      "outputs": []
    },
    {
      "cell_type": "code",
      "source": [
        "##Convert HSV to RGB and BGR\n",
        "#Type ur code here\n",
        "# Convert BGR to HSV\n",
        "#Type ur code here\n",
        "# Convert HSV to RGB\n",
        "#Type ur code here\n",
        "# Convert HSV to BGR\n",
        "image_bgr_hsv = cv2.cvtColor(image_hsv, cv2.COLOR_HSV2BGR)\n",
        "\n",
        "# Display the original BGR image\n",
        "#Type ur code here\n",
        "cv2_imshow(image_bgr)\n",
        "\n",
        "# Display the HSV image\n",
        "#Type ur code here\n",
        "cv2_imshow(image_hsv)\n",
        "\n",
        "# Display the RGB image (HSV to RGB)\n",
        "print(\"HSV TO RGB\")\n",
        "#Type ur code here\n",
        "\n",
        "# Display the BGR image (HSV to BGR)\n",
        "\n",
        "#Type ur code here"
      ],
      "metadata": {
        "id": "DB9eYECldqW9"
      },
      "execution_count": null,
      "outputs": []
    },
    {
      "cell_type": "code",
      "source": [
        "##Convert RGB and BGR to YCrCb\n",
        "#Type ur code here\n",
        "\n",
        "# Convert BGR to YCrCb\n",
        "image_ycrcb_bgr = cv2.cvtColor(image_bgr, cv2.COLOR_BGR2YCrCb)\n",
        "\n",
        "# Convert RGB to YCrCb\n",
        "#Type ur code here\n",
        "                                                                # Convert BGR to RGB\n",
        "image_ycrcb_rgb = cv2.cvtColor(image_rgb, cv2.COLOR_RGB2YCrCb)\n",
        "\n",
        "# Display the original BGR image\n",
        "#Type ur code here\n",
        "\n",
        "# Display the YCrCb image (BGR to YCrCb)\n",
        "#Type ur code here\n",
        "\n",
        "# Display the YCrCb image (RGB to YCrCb)\n",
        "\n",
        "#Type ur code here"
      ],
      "metadata": {
        "id": "JpZRyLhId2gt"
      },
      "execution_count": null,
      "outputs": []
    },
    {
      "cell_type": "code",
      "source": [
        "#Split and Merge RGB Image\n",
        "\n",
        "\n",
        "## Split the RGB channels\n",
        "blue_channel, green_channel, red_channel = cv2.split(image_bgr)\n",
        "\n",
        "# Display the original BGR image\n",
        "#Type ur code here\n",
        "\n",
        "# Display the individual RGB channels\n",
        "print(\"BLUE CHANNEL\")\n",
        "cv2_imshow(blue_channel)\n",
        "#Type ur code here\n",
        "\n",
        "# Merge the RGB channels back together\n",
        "\n",
        "#Type ur code here\n",
        "# Display the merged image\n",
        "#Type ur code here"
      ],
      "metadata": {
        "id": "IBLtB5wdeA-W"
      },
      "execution_count": null,
      "outputs": []
    },
    {
      "cell_type": "code",
      "source": [
        "##Split and merge HSV Image\n",
        "#Type ur code here\n",
        "# Convert BGR to HSV\n",
        "#Type ur code here\n",
        "\n",
        "# Split the HSV channels\n",
        "#Type ur code here\n",
        "# Display the original BGR image and the converted HSV image\n",
        "print(\"ORIGINAL IMAGE\")\n",
        "cv2_imshow(image_bgr)\n",
        "print(\"HSV IMAGE\")\n",
        "cv2_imshow(image_hsv)\n",
        "\n",
        "# Display the individual HSV channels\n",
        "#Type ur code here"
      ],
      "metadata": {
        "id": "Yh1Se-sNeFaK"
      },
      "execution_count": null,
      "outputs": []
    },
    {
      "cell_type": "code",
      "source": [],
      "metadata": {
        "id": "FV_-mfv4eM8H"
      },
      "execution_count": null,
      "outputs": []
    }
  ]
}